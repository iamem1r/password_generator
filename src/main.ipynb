{
 "cells": [
  {
   "cell_type": "markdown",
   "metadata": {},
   "source": [
    "- Parent: PasswordGenerator\n",
    "    - Abstract\n",
    "    - Methods:\n",
    "        - __init__\n",
    "        - generate\n",
    "- RandomPasswordGenerator\n",
    "- MemorablePasswordGenerator\n",
    "- PinGenerator"
   ]
  },
  {
   "cell_type": "code",
   "execution_count": 2,
   "metadata": {},
   "outputs": [],
   "source": [
    "from abc import ABC, abstractmethod\n",
    "import string\n",
    "import random\n",
    "from nltk import corpus\n",
    "\n",
    "class PasswordGenerator(ABC):\n",
    "    @abstractmethod\n",
    "    def generate(self):\n",
    "        print(\"hello\")"
   ]
  },
  {
   "cell_type": "code",
   "execution_count": 3,
   "metadata": {},
   "outputs": [],
   "source": [
    "class PinGenerator(PasswordGenerator):\n",
    "    def __init__(self, length):\n",
    "        self.length = length\n",
    "\n",
    "    def generate(self):\n",
    "        return ''.join([random.choice(string.digits) for _ in range(self.length)])"
   ]
  },
  {
   "cell_type": "code",
   "execution_count": 4,
   "metadata": {},
   "outputs": [],
   "source": [
    "class RandomPasswordGenerator(PasswordGenerator):\n",
    "    def __init__(self, length: int = 8, include_numbers: bool = False, include_symbols: bool = False):\n",
    "        self.length = length\n",
    "        self.characters = string.ascii_letters + ' '\n",
    "        if include_numbers:\n",
    "            self.characters += string.digits\n",
    "        if include_symbols:\n",
    "            self.characters += string.punctuation\n",
    "\n",
    "    def generate(self):\n",
    "        return ''.join([random.choice(self.characters) for _ in range(self.length)])"
   ]
  },
  {
   "cell_type": "code",
   "execution_count": 5,
   "metadata": {},
   "outputs": [
    {
     "data": {
      "text/plain": [
       "'n-/\\'v.:<2K1([Tg0l-[7(z3:\"'"
      ]
     },
     "execution_count": 5,
     "metadata": {},
     "output_type": "execute_result"
    }
   ],
   "source": [
    "obj = RandomPasswordGenerator(length=25, include_numbers=True, include_symbols=True)\n",
    "obj.generate()"
   ]
  },
  {
   "cell_type": "code",
   "execution_count": 6,
   "metadata": {},
   "outputs": [
    {
     "data": {
      "text/plain": [
       "'!\"#$%&\\'()*+,-./:;<=>?@[\\\\]^_`{|}~'"
      ]
     },
     "execution_count": 6,
     "metadata": {},
     "output_type": "execute_result"
    }
   ],
   "source": [
    "string.punctuation"
   ]
  },
  {
   "cell_type": "code",
   "execution_count": 12,
   "metadata": {},
   "outputs": [],
   "source": [
    "class MemorablePasswordGenerator(PasswordGenerator):\n",
    "    def __init__(self, num_of_words: int = 6, separator: str = '-', capitalize: bool = False, vocabulary: list = None):\n",
    "        if vocabulary is None:\n",
    "            vocabulary = corpus.words.words()\n",
    "\n",
    "        self.vocabulary = vocabulary\n",
    "        self.num_of_words = num_of_words\n",
    "        self.separator = separator\n",
    "        self.capitalize = capitalize\n",
    "\n",
    "\n",
    "    def generate(self):\n",
    "        password_words = [random.choice(self.vocabulary) for _ in range(self.num_of_words)]\n",
    "        if self.capitalize:\n",
    "            password_words = [word.upper() if random.choice([True, False]) else word.lower() for word in password_words]\n",
    "\n",
    "        return self.separator.join(password_words)"
   ]
  },
  {
   "cell_type": "code",
   "execution_count": 28,
   "metadata": {},
   "outputs": [
    {
     "data": {
      "text/plain": [
       "'UNPRESERVABLE|LITURGICS|subovated|BUTTRESSLESS|shola'"
      ]
     },
     "execution_count": 28,
     "metadata": {},
     "output_type": "execute_result"
    }
   ],
   "source": [
    "obj = MemorablePasswordGenerator(num_of_words=5, separator='|', capitalize=True)\n",
    "password = obj.generate()\n",
    "\n",
    "password"
   ]
  },
  {
   "cell_type": "code",
   "execution_count": 36,
   "metadata": {},
   "outputs": [
    {
     "name": "stdout",
     "output_type": "stream",
     "text": [
      "\n"
     ]
    }
   ],
   "source": [
    "try:\n",
    "    assert len(password.split('|')) == 4\n",
    "except AssertionError as e:\n",
    "    print(e)"
   ]
  },
  {
   "cell_type": "code",
   "execution_count": 31,
   "metadata": {},
   "outputs": [],
   "source": [
    "assert 1==1"
   ]
  },
  {
   "cell_type": "code",
   "execution_count": null,
   "metadata": {},
   "outputs": [],
   "source": []
  }
 ],
 "metadata": {
  "kernelspec": {
   "display_name": "amir",
   "language": "python",
   "name": "python3"
  },
  "language_info": {
   "codemirror_mode": {
    "name": "ipython",
    "version": 3
   },
   "file_extension": ".py",
   "mimetype": "text/x-python",
   "name": "python",
   "nbconvert_exporter": "python",
   "pygments_lexer": "ipython3",
   "version": "3.8.12"
  }
 },
 "nbformat": 4,
 "nbformat_minor": 2
}
